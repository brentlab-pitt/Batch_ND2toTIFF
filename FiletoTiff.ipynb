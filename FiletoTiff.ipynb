{
 "cells": [
  {
   "cell_type": "markdown",
   "metadata": {},
   "source": [
    "# Batch Convert ND2 Files to TIFF\n",
    "\n",
    "Select directory containing ND2 files. Script will create new folder within directory called 'tiff', and will convert ND2 files to TIFF, then save in tiff folder."
   ]
  },
  {
   "cell_type": "markdown",
   "metadata": {},
   "source": [
    "### Install libraries (only need to do this first time)"
   ]
  },
  {
   "cell_type": "code",
   "execution_count": null,
   "metadata": {},
   "outputs": [],
   "source": [
    "pip install nd2reader tifffile numpy\n"
   ]
  },
  {
   "cell_type": "code",
   "execution_count": 1,
   "metadata": {},
   "outputs": [
    {
     "name": "stdout",
     "output_type": "stream",
     "text": [
      "Conversion complete. TIFF files saved in: C:/Users/oes6098/Desktop/test images nd2\\tiff\n"
     ]
    }
   ],
   "source": [
    "import os\n",
    "from tkinter import Tk, filedialog\n",
    "from nd2reader import ND2Reader\n",
    "from tifffile import imwrite\n",
    "import numpy as np\n",
    "\n",
    "def convert_nd2_to_tiff(input_dir, output_dir):\n",
    "    # Create output directory if it doesn't exist\n",
    "    if not os.path.exists(output_dir):\n",
    "        os.makedirs(output_dir)\n",
    "\n",
    "    # Iterate through ND2 files in the input directory\n",
    "    for filename in os.listdir(input_dir):\n",
    "        if filename.endswith(\".nd2\"):\n",
    "            nd2_path = os.path.join(input_dir, filename)\n",
    "            output_filename = os.path.splitext(filename)[0] + \".tiff\"\n",
    "            output_path = os.path.join(output_dir, output_filename)\n",
    "\n",
    "            # Convert ND2 to TIFF based on user-provided conditions\n",
    "            with ND2Reader(nd2_path) as images:\n",
    "                num_channels = images.sizes['c']\n",
    "                num_frames = images.sizes['t']\n",
    "                num_slices = images.sizes.get('z', 1)\n",
    "                image_shape = (num_frames, num_slices, num_channels, images.metadata['height'], images.metadata['width'])\n",
    "                stack = np.zeros(image_shape, dtype=np.uint16)\n",
    "\n",
    "                for t in range(num_frames):\n",
    "                    for c in range(num_channels):\n",
    "                        for z in range(num_slices):\n",
    "                            # Rearrange the channel order (Z, C, T, Y, X)\n",
    "                            stack[t, z, c, :, :] = images.get_frame_2D(t=t, z=z, c=c)\n",
    "\n",
    "                # Save the stack as TIFF\n",
    "                imwrite(output_path, stack, imagej=True)\n",
    "\n",
    "def main():\n",
    "    # Ask user to select input directory\n",
    "    root = Tk()\n",
    "    root.withdraw()  # Hide the main window\n",
    "    input_dir = filedialog.askdirectory(title=\"Select Directory containing .nd2 files\")\n",
    "    root.destroy()\n",
    "\n",
    "    if not input_dir:\n",
    "        print(\"No directory selected. Exiting.\")\n",
    "        return\n",
    "\n",
    "    # Define output directory\n",
    "    output_dir = os.path.join(input_dir, \"tiff\")\n",
    "\n",
    "    # Convert ND2 files to TIFF based on user-provided conditions\n",
    "    convert_nd2_to_tiff(input_dir, output_dir)\n",
    "    print(\"Conversion complete. TIFF files saved in:\", output_dir)\n",
    "\n",
    "if __name__ == \"__main__\":\n",
    "    main()\n"
   ]
  },
  {
   "cell_type": "code",
   "execution_count": null,
   "metadata": {},
   "outputs": [],
   "source": []
  }
 ],
 "metadata": {
  "kernelspec": {
   "display_name": "Python 3",
   "language": "python",
   "name": "python3"
  },
  "language_info": {
   "codemirror_mode": {
    "name": "ipython",
    "version": 3
   },
   "file_extension": ".py",
   "mimetype": "text/x-python",
   "name": "python",
   "nbconvert_exporter": "python",
   "pygments_lexer": "ipython3",
   "version": "3.12.2"
  }
 },
 "nbformat": 4,
 "nbformat_minor": 2
}
